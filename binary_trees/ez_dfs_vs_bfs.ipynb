{
 "cells": [
  {
   "cell_type": "markdown",
   "metadata": {},
   "source": [
    "###  Understanding Depth First Search vs Breadth First Search"
   ]
  },
  {
   "cell_type": "markdown",
   "metadata": {},
   "source": [
    "Both BFS and DFS rely on a data structure that informs the algorithm what node to visit next.\n",
    "\n",
    "BFS uses a **queue**. DFS uses a **stack**."
   ]
  },
  {
   "cell_type": "markdown",
   "metadata": {},
   "source": [
    "Let's first understand how a stack works directly with an example. In Python stacks are represented as a ``list`` object."
   ]
  },
  {
   "cell_type": "code",
   "execution_count": 2,
   "metadata": {},
   "outputs": [],
   "source": [
    "stack = ['A', 'B', 'C']"
   ]
  },
  {
   "cell_type": "markdown",
   "metadata": {},
   "source": [
    "In the context of a stack, the end of the list is considered the top of the stack.\n",
    "\n",
    "<div style=\"text-align: center;\">\n",
    "<img \n",
    "    src=\"imgs/stack_abc.png\"\n",
    "    alt=\"A stack\"\n",
    "    width=\"auto\" height=\"200\"\n",
    "    >\n",
    "</div>\n",
    "\n",
    "In a stack you can only have access to the top of the stack:\n",
    "- You can add an element to the top of the stack with ``append()``.\n",
    "- You can remove the top element of the stack with ``pop()``."
   ]
  },
  {
   "cell_type": "markdown",
   "metadata": {},
   "source": [
    "Now that we understand how a stack works, let's see why its use leads to a Depth First Search.\n",
    "\n",
    "We are going to transverse a binary tree as a useful example.\n",
    "\n",
    "<div style=\"text-align: center;\">\n",
    "<img \n",
    "    src=\"imgs/bin_tree.png\"\n",
    "    alt=\"A stack\"\n",
    "    width=\"auto\" height=\"200\"\n",
    "    >\n",
    "</div>\n"
   ]
  },
  {
   "cell_type": "markdown",
   "metadata": {},
   "source": [
    "We start at the top node **A** and add it to the stack."
   ]
  },
  {
   "cell_type": "code",
   "execution_count": 6,
   "metadata": {},
   "outputs": [],
   "source": [
    "stack = []\n",
    "stack.append('A')"
   ]
  },
  {
   "cell_type": "markdown",
   "metadata": {},
   "source": [
    "We ``pop()`` the top element of the stack and make it the current node."
   ]
  },
  {
   "cell_type": "code",
   "execution_count": 7,
   "metadata": {},
   "outputs": [
    {
     "name": "stdout",
     "output_type": "stream",
     "text": [
      "Current Node:  A\n",
      "Stack:  []\n"
     ]
    }
   ],
   "source": [
    "current_node = stack.pop()\n",
    "print('Current Node: ', current_node)\n",
    "print('Stack: ', stack)"
   ]
  },
  {
   "cell_type": "markdown",
   "metadata": {},
   "source": [
    "After popping **A**, our stack is empty. We add the children of **A** to the stack in the order **B** and **C**."
   ]
  },
  {
   "cell_type": "code",
   "execution_count": 8,
   "metadata": {},
   "outputs": [
    {
     "name": "stdout",
     "output_type": "stream",
     "text": [
      "Stack:  ['B', 'C']\n"
     ]
    }
   ],
   "source": [
    "stack.append('B')\n",
    "stack.append('C')\n",
    "print('Stack: ', stack)"
   ]
  },
  {
   "cell_type": "markdown",
   "metadata": {},
   "source": [
    "Next we ``pop()`` the top element of the stack and make it the current node. This is **C**."
   ]
  },
  {
   "cell_type": "code",
   "execution_count": 9,
   "metadata": {},
   "outputs": [
    {
     "name": "stdout",
     "output_type": "stream",
     "text": [
      "Current Node:  C\n",
      "Stack:  ['B']\n"
     ]
    }
   ],
   "source": [
    "current_node = stack.pop() \n",
    "print('Current Node: ', current_node)\n",
    "print('Stack: ', stack)"
   ]
  },
  {
   "cell_type": "markdown",
   "metadata": {},
   "source": [
    "Now is when we can appreciate how a stack leads to a DFS. Our current node is **C**, we will add its children **E** and **F** to the stack. And since we can only access the top of the stack, we will visit **F** and one of its children (if there where any) before we visit any other node."
   ]
  },
  {
   "cell_type": "code",
   "execution_count": 10,
   "metadata": {},
   "outputs": [
    {
     "name": "stdout",
     "output_type": "stream",
     "text": [
      "Stack:  ['B', 'E', 'F']\n"
     ]
    }
   ],
   "source": [
    "stack.append('E')\n",
    "stack.append('F')\n",
    "print('Stack: ', stack)"
   ]
  },
  {
   "cell_type": "markdown",
   "metadata": {},
   "source": [
    "Let's show now a full DFS of the binary tree. First we define a node class with left and right children."
   ]
  },
  {
   "cell_type": "code",
   "execution_count": 11,
   "metadata": {},
   "outputs": [],
   "source": [
    "class Node:\n",
    "    def __init__(self, value):\n",
    "        self.value = value\n",
    "        self.left = None\n",
    "        self.right = None"
   ]
  },
  {
   "cell_type": "markdown",
   "metadata": {},
   "source": [
    "Create our binary tree as in the figure above."
   ]
  },
  {
   "cell_type": "code",
   "execution_count": 13,
   "metadata": {},
   "outputs": [],
   "source": [
    "a = Node('A')\n",
    "b = Node('B')\n",
    "c = Node('C')\n",
    "d = Node('D')\n",
    "e = Node('E')\n",
    "f = Node('F')\n",
    "\n",
    "a.left = b\n",
    "a.right = c\n",
    "b.left = d\n",
    "c.left = e\n",
    "c.right = f"
   ]
  },
  {
   "cell_type": "markdown",
   "metadata": {},
   "source": [
    "And now we can transverse the tree with a DFS."
   ]
  },
  {
   "cell_type": "code",
   "execution_count": 23,
   "metadata": {},
   "outputs": [
    {
     "name": "stdout",
     "output_type": "stream",
     "text": [
      "Stack ['A']\n",
      "Current Node:  A\n",
      "Stack ['C', 'B']\n",
      "Current Node:  B\n",
      "Stack ['C', 'D']\n",
      "Current Node:  D\n",
      "Stack ['C']\n",
      "Current Node:  C\n",
      "Stack ['F', 'E']\n",
      "Current Node:  E\n",
      "Stack ['F']\n",
      "Current Node:  F\n",
      "Stack []\n"
     ]
    }
   ],
   "source": [
    "stack = []\n",
    "stack.append(a)\n",
    "counter = 1 #Just to show the iteration number\n",
    "print('Stack', [node.value for node in stack])\n",
    "while len(stack) > 0:\n",
    "    current_node = stack.pop()\n",
    "    print('Current Node: ', current_node.value)\n",
    "    if current_node.right is not None:\n",
    "        stack.append(current_node.right)\n",
    "    if current_node.left is not None:\n",
    "        stack.append(current_node.left)\n",
    "    print('Stack', [node.value for node in stack])\n",
    "  "
   ]
  },
  {
   "cell_type": "markdown",
   "metadata": {},
   "source": [
    "The same can be achieved with a recursive function. The function will call itself on the left and right children of the current node. Since it use the call stack, it is equivalent to using a stack."
   ]
  },
  {
   "cell_type": "code",
   "execution_count": 32,
   "metadata": {},
   "outputs": [
    {
     "name": "stdout",
     "output_type": "stream",
     "text": [
      "Current Node:  A\n",
      "Stack:  ['<module>', 'A']\n",
      "Current Node:  B\n",
      "Stack:  ['recursive_dfs', 'B']\n",
      "Current Node:  D\n",
      "Stack:  ['recursive_dfs', 'D']\n",
      "Current Node:  C\n",
      "Stack:  ['recursive_dfs', 'C']\n",
      "Current Node:  E\n",
      "Stack:  ['recursive_dfs', 'E']\n",
      "Current Node:  F\n",
      "Stack:  ['recursive_dfs', 'F']\n"
     ]
    }
   ],
   "source": [
    "import inspect\n",
    "import traceback\n",
    "\n",
    "def recursive_dfs(node):\n",
    "    print('Current Node: ', node.value)\n",
    "    print('Stack: ', [inspect.stack()[1][3], node.value])\n",
    "    if node.left is not None:\n",
    "        recursive_dfs(node.left)\n",
    "    if node.right is not None:\n",
    "        recursive_dfs(node.right)\n",
    "\n",
    "recursive_dfs(a)"
   ]
  }
 ],
 "metadata": {
  "kernelspec": {
   "display_name": ".venv",
   "language": "python",
   "name": "python3"
  },
  "language_info": {
   "codemirror_mode": {
    "name": "ipython",
    "version": 3
   },
   "file_extension": ".py",
   "mimetype": "text/x-python",
   "name": "python",
   "nbconvert_exporter": "python",
   "pygments_lexer": "ipython3",
   "version": "3.8.10"
  },
  "orig_nbformat": 4
 },
 "nbformat": 4,
 "nbformat_minor": 2
}
